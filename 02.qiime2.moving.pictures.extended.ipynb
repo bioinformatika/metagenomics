{
 "cells": [
  {
   "cell_type": "markdown",
   "id": "928b4661-d004-49b3-b1c9-c9f4f8df48dc",
   "metadata": {},
   "source": [
    "# Adapting the “Moving Pictures” tutorial from Qiime2 Docs \n",
    "(https://docs.qiime2.org/2021.11/tutorials/moving-pictures/)"
   ]
  },
  {
   "cell_type": "markdown",
   "id": "00a7b61b-5543-4e0e-afc8-f8f905ba6c9e",
   "metadata": {},
   "source": [
    "## 1. Import data\n",
    "First of all, we donwload the data. This is a python notebook, but we'll be not executing python code, but shell commands. To do so, a \"!\" must be used in front of each expression. The notebook has been launched from a Qiime2 environment (See 01.setting.up.qiime2.environment.ipynb)\n",
    "Secondly, in the chunk below, we are going to set the working directory, where all the data inputs and outputs will be stored.\n",
    "This working dir will be the root for all the subsequent analyses.\n"
   ]
  },
  {
   "cell_type": "code",
   "execution_count": 1,
   "id": "c68c1253-33ff-4d31-aa83-2f38dbb1d114",
   "metadata": {},
   "outputs": [
    {
     "name": "stdout",
     "output_type": "stream",
     "text": [
      "/home/david/Desktop/02.qiime2.moving.pictures.extended\n"
     ]
    }
   ],
   "source": [
    "%cd /home/david/Desktop/02.qiime2.moving.pictures.extended"
   ]
  },
  {
   "cell_type": "code",
   "execution_count": null,
   "id": "412f10ac-3330-42d7-a0af-d31d95a3a8be",
   "metadata": {},
   "outputs": [],
   "source": []
  },
  {
   "cell_type": "code",
   "execution_count": 2,
   "id": "41c0707e-8a52-4da5-aded-195619b80cd6",
   "metadata": {},
   "outputs": [],
   "source": [
    "! wget -q \\\n",
    "  -O \"sample-metadata.tsv\" \\\n",
    "  \"https://data.qiime2.org/2021.11/tutorials/moving-pictures/sample_metadata.tsv\""
   ]
  },
  {
   "cell_type": "markdown",
   "id": "fb0ffeca-adc7-4ef8-bd65-49c12b4c1763",
   "metadata": {},
   "source": [
    "The sample metadata contains the relationships between sample names and barcodes"
   ]
  },
  {
   "cell_type": "code",
   "execution_count": 3,
   "id": "3345aaa8-d83c-4619-b968-f18129690135",
   "metadata": {},
   "outputs": [
    {
     "name": "stdout",
     "output_type": "stream",
     "text": [
      "sample-id\tbarcode-sequence\tbody-site\tyear\tmonth\tday\tsubject\treported-antibiotic-usage\tdays-since-experiment-start\n",
      "#q2:types\tcategorical\tcategorical\tnumeric\tnumeric\tnumeric\tcategorical\tcategorical\tnumeric\n",
      "L1S8\tAGCTGACTAGTC\tgut\t2008\t10\t28\tsubject-1\tYes\t0\n",
      "L1S57\tACACACTATGGC\tgut\t2009\t1\t20\tsubject-1\tNo\t84\n",
      "L1S76\tACTACGTGTGGT\tgut\t2009\t2\t17\tsubject-1\tNo\t112\n",
      "L1S105\tAGTGCGATGCGT\tgut\t2009\t3\t17\tsubject-1\tNo\t140\n",
      "L2S155\tACGATGCGACCA\tleft palm\t2009\t1\t20\tsubject-1\tNo\t84\n",
      "L2S175\tAGCTATCCACGA\tleft palm\t2009\t2\t17\tsubject-1\tNo\t112\n",
      "L2S204\tATGCAGCTCAGT\tleft palm\t2009\t3\t17\tsubject-1\tNo\t140\n",
      "L2S222\tCACGTGACATGT\tleft palm\t2009\t4\t14\tsubject-1\tNo\t168\n"
     ]
    }
   ],
   "source": [
    "! head sample-metadata.tsv"
   ]
  },
  {
   "cell_type": "code",
   "execution_count": 4,
   "id": "79b9c7e2-98f2-459a-b8bc-ba4b5299cc08",
   "metadata": {},
   "outputs": [],
   "source": [
    "! mkdir -p emp-single-end-sequences #The -p flag prevents the error if the folder already exists\n",
    "! wget -q \\\n",
    "  -O \"emp-single-end-sequences/barcodes.fastq.gz\" \\\n",
    "  \"https://data.qiime2.org/2021.11/tutorials/moving-pictures/emp-single-end-sequences/barcodes.fastq.gz\"\n",
    "! wget -q \\\n",
    "  -O \"emp-single-end-sequences/sequences.fastq.gz\" \\\n",
    "  \"https://data.qiime2.org/2021.11/tutorials/moving-pictures/emp-single-end-sequences/sequences.fastq.gz\""
   ]
  },
  {
   "cell_type": "raw",
   "id": "1b5ed977-7cd7-44b4-b1d0-f1a399186627",
   "metadata": {},
   "source": []
  },
  {
   "cell_type": "code",
   "execution_count": 5,
   "id": "0445f1a0-3213-41cf-b263-73fd23ff9b22",
   "metadata": {},
   "outputs": [
    {
     "name": "stdout",
     "output_type": "stream",
     "text": [
      "\u001b[32mImported emp-single-end-sequences as EMPSingleEndDirFmt to emp-single-end-sequences.qza\u001b[0m\n"
     ]
    }
   ],
   "source": [
    "! qiime tools import \\\n",
    "  --type EMPSingleEndSequences \\\n",
    "  --input-path emp-single-end-sequences \\\n",
    "  --output-path emp-single-end-sequences.qza"
   ]
  },
  {
   "cell_type": "markdown",
   "id": "13648356-8173-4adc-9262-c7ef1e913746",
   "metadata": {},
   "source": [
    "Check the UUID, type, and format"
   ]
  },
  {
   "cell_type": "code",
   "execution_count": 6,
   "id": "f7c85fb4-6260-4a9d-babe-00713f416838",
   "metadata": {},
   "outputs": [
    {
     "name": "stdout",
     "output_type": "stream",
     "text": [
      "\u001b[32mUUID\u001b[0m:        bc2cf36b-3efe-424c-b909-48cd302ac9b8\n",
      "\u001b[32mType\u001b[0m:        EMPSingleEndSequences\n",
      "\u001b[32mData format\u001b[0m: EMPSingleEndDirFmt\n"
     ]
    }
   ],
   "source": [
    "! qiime tools peek emp-single-end-sequences.qza"
   ]
  },
  {
   "cell_type": "markdown",
   "id": "554d5a40-f69a-4e61-a5d5-9a93d3aeed46",
   "metadata": {},
   "source": [
    "## 2. Demultiplexing sequences\n",
    "To demultiplex sequences we need to know which barcode sequence is associated with each sample. \n",
    "This information is contained in the sample metadata file.\n",
    "We require several inputs:\n",
    "\t- emp-single-end-sequences.qza, generated in the previous step, where barcodes and sequences are present\n",
    "\t- sample-metadata.tsv file, relating barcodes to samples\n",
    "\t- barcode-sequence: name of the column inside the sample-metadata.tsv file where barcode sequences are stored"
   ]
  },
  {
   "cell_type": "code",
   "execution_count": 7,
   "id": "be3ae4d8-8c16-4a93-b2fe-928bd25106c8",
   "metadata": {},
   "outputs": [
    {
     "name": "stdout",
     "output_type": "stream",
     "text": [
      "\u001b[32mSaved SampleData[SequencesWithQuality] to: demux.qza\u001b[0m\n",
      "\u001b[32mSaved ErrorCorrectionDetails to: demux-details.qz.qza\u001b[0m\n"
     ]
    }
   ],
   "source": [
    "! qiime demux emp-single \\\n",
    "  --i-seqs emp-single-end-sequences.qza \\\n",
    "  --m-barcodes-file sample-metadata.tsv \\\n",
    "  --m-barcodes-column barcode-sequence \\\n",
    "  --o-per-sample-sequences demux.qza \\\n",
    "  --o-error-correction-details demux-details.qz"
   ]
  },
  {
   "cell_type": "markdown",
   "id": "f04b03b6-9819-4fa3-9738-13468bc67d9e",
   "metadata": {},
   "source": [
    "We generate a summary of the demultiplexing results"
   ]
  },
  {
   "cell_type": "code",
   "execution_count": 8,
   "id": "7d894d3b-90f5-483f-9dfb-b571de9ae69b",
   "metadata": {},
   "outputs": [
    {
     "name": "stdout",
     "output_type": "stream",
     "text": [
      "\u001b[32mSaved Visualization to: demux.qzv\u001b[0m\n"
     ]
    }
   ],
   "source": [
    "! qiime demux summarize \\\n",
    "  --i-data demux.qza \\\n",
    "  --o-visualization demux.qzv"
   ]
  },
  {
   "cell_type": "markdown",
   "id": "6923433e-a7d7-4ba8-bdd8-e2a5f01899f9",
   "metadata": {},
   "source": [
    "All QIIME 2 visualizers (i.e., commands that take a --o-visualization parameter) will generate a .qzv file. You can view these files with qiime tools view"
   ]
  },
  {
   "cell_type": "code",
   "execution_count": 9,
   "id": "8d9af6ac-8390-4bdb-b71e-bac374af02fd",
   "metadata": {},
   "outputs": [],
   "source": [
    "##! qiime tools view demux.qzv"
   ]
  },
  {
   "cell_type": "markdown",
   "id": "baf2eb00-8af5-4c65-965d-686d8450d0fb",
   "metadata": {},
   "source": [
    "Sequence quality control and feature table construction: the important part of the report is the interactive quality plot, where the quality (phred) score is related to the sequence lenght. This will be helpful for trimming later: somewhere between 100 and 120 nucleotides, the quality drops substantially. "
   ]
  },
  {
   "cell_type": "markdown",
   "id": "9f4932e2-67bf-481c-a645-c8bd1809f354",
   "metadata": {},
   "source": [
    "<img src=\"data:image/png;base64,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\" style=\"width: 800px\"  />"
   ]
  },
  {
   "cell_type": "markdown",
   "id": "bda5e395-00f1-4ea9-8edc-18d06f23b9e2",
   "metadata": {},
   "source": [
    "## 3. Sequence quality control and feature table construction\n",
    "QIIME 2 plugins are available for several quality control methods, including DADA2, Deblur, and basic quality-score-based filtering. \n",
    "In this tutorial we present this step using DADA2 and Deblur. These steps are interchangeable, so you can use whichever of these you prefer. \n",
    "The result of both of these methods will be a FeatureTable[Frequency] QIIME 2 artifact, which contains:\n",
    " - counts (frequencies) of each unique sequence in each sample in the dataset, and \n",
    " - a FeatureData[Sequence] QIIME 2 artifact, which maps feature identifiers in the FeatureTable to the sequences they represent\n",
    " \n",
    " From the teo options offered in the tutorial, we'll follow the **DADA2** option"
   ]
  },
  {
   "cell_type": "markdown",
   "id": "e0f058f5-b91b-4d75-91b6-f224e8a5729f",
   "metadata": {},
   "source": [
    "The instruction below takes somewhat about one minute to run.\n",
    "IMPORTANT: https://benjjneb.github.io/dada2/faq.html#can-i-use-dada2-with-my-454-or-ion-torrent-data\n"
   ]
  },
  {
   "cell_type": "code",
   "execution_count": 10,
   "id": "cd1bb454-6591-4d90-9b55-2f37cb10bb40",
   "metadata": {},
   "outputs": [
    {
     "name": "stdout",
     "output_type": "stream",
     "text": [
      "\u001b[32mSaved FeatureTable[Frequency] to: table.qza\u001b[0m\n",
      "\u001b[32mSaved FeatureData[Sequence] to: rep-seqs.qza\u001b[0m\n",
      "\u001b[32mSaved SampleData[DADA2Stats] to: stats.qza\u001b[0m\n"
     ]
    }
   ],
   "source": [
    "! qiime dada2 denoise-single \\\n",
    "  --i-demultiplexed-seqs demux.qza \\\n",
    "  --p-trim-left 0 \\\n",
    "  --p-trunc-len 120 \\\n",
    "  --o-representative-sequences rep-seqs.qza \\\n",
    "  --o-table table.qza \\\n",
    "  --o-denoising-stats stats.qza\n"
   ]
  },
  {
   "cell_type": "code",
   "execution_count": 11,
   "id": "fbf6270d-65d1-4d10-9b67-8989d1b2a3a3",
   "metadata": {},
   "outputs": [
    {
     "name": "stdout",
     "output_type": "stream",
     "text": [
      "\u001b[32mSaved Visualization to: stats.qzv\u001b[0m\n"
     ]
    }
   ],
   "source": [
    "! qiime metadata tabulate \\\n",
    "  --m-input-file stats.qza \\\n",
    "  --o-visualization stats.qzv"
   ]
  },
  {
   "cell_type": "markdown",
   "id": "5d4c5d53-f915-4f02-8e86-45cec3b46eb9",
   "metadata": {},
   "source": [
    "## 4. FeatureTable and FeatureData summaries\n",
    "The feature-table summarize command will give you information on how many sequences are associated with each sample and with each feature, \n",
    "histograms of those distributions, and some related summary statistics. \n",
    "The feature-table tabulate-seqs command will provide a mapping of feature IDs to sequences, and provide links to easily BLAST each sequence against the NCBI nt database. The latter visualization will be very useful later in the tutorial, \n",
    "when you want to learn more about specific features that are important in the data set.\n"
   ]
  },
  {
   "cell_type": "code",
   "execution_count": 12,
   "id": "8d9795c5-b4c0-4129-bfa3-44168e068439",
   "metadata": {},
   "outputs": [
    {
     "name": "stdout",
     "output_type": "stream",
     "text": [
      "\u001b[32mSaved Visualization to: table.qzv\u001b[0m\n"
     ]
    }
   ],
   "source": [
    "! qiime feature-table summarize \\\n",
    "  --i-table table.qza \\\n",
    "  --o-visualization table.qzv \\\n",
    "  --m-sample-metadata-file sample-metadata.tsv"
   ]
  },
  {
   "cell_type": "code",
   "execution_count": 13,
   "id": "d65384a3-38b6-4d65-a294-8fa6c1f34a78",
   "metadata": {},
   "outputs": [
    {
     "name": "stdout",
     "output_type": "stream",
     "text": [
      "\u001b[32mSaved Visualization to: rep-seqs.qzv\u001b[0m\n"
     ]
    }
   ],
   "source": [
    "! qiime feature-table tabulate-seqs \\\n",
    "  --i-data rep-seqs.qza \\\n",
    "  --o-visualization rep-seqs.qzv"
   ]
  },
  {
   "cell_type": "markdown",
   "id": "2f5d201f-125a-41a5-bd8c-66dae843727f",
   "metadata": {},
   "source": [
    "## 5. Generate a tree for phylogenetic diversity analyse\n"
   ]
  },
  {
   "cell_type": "code",
   "execution_count": 14,
   "id": "de3040b4-3be6-49c4-b8dd-df90fc6dc969",
   "metadata": {},
   "outputs": [
    {
     "name": "stdout",
     "output_type": "stream",
     "text": [
      "\u001b[32mSaved FeatureData[AlignedSequence] to: aligned-rep-seqs.qza\u001b[0m\n",
      "\u001b[32mSaved FeatureData[AlignedSequence] to: masked-aligned-rep-seqs.qza\u001b[0m\n",
      "\u001b[32mSaved Phylogeny[Unrooted] to: unrooted-tree.qza\u001b[0m\n",
      "\u001b[32mSaved Phylogeny[Rooted] to: rooted-tree.qza\u001b[0m\n"
     ]
    }
   ],
   "source": [
    "! qiime phylogeny align-to-tree-mafft-fasttree \\\n",
    "  --i-sequences rep-seqs.qza \\\n",
    "  --o-alignment aligned-rep-seqs.qza \\\n",
    "  --o-masked-alignment masked-aligned-rep-seqs.qza \\\n",
    "  --o-tree unrooted-tree.qza \\\n",
    "  --o-rooted-tree rooted-tree.qza"
   ]
  },
  {
   "cell_type": "markdown",
   "id": "5ba6a4b9-1fac-419b-8249-5b9340e819fd",
   "metadata": {},
   "source": [
    "## 6. Alpha and beta diversity analysis\n"
   ]
  },
  {
   "cell_type": "code",
   "execution_count": 15,
   "id": "e96e6943-fff2-4b23-b045-2e24e71de881",
   "metadata": {},
   "outputs": [
    {
     "name": "stdout",
     "output_type": "stream",
     "text": [
      "\u001b[32mSaved FeatureTable[Frequency] to: core-metrics-results/rarefied_table.qza\u001b[0m\n",
      "\u001b[32mSaved SampleData[AlphaDiversity] to: core-metrics-results/faith_pd_vector.qza\u001b[0m\n",
      "\u001b[32mSaved SampleData[AlphaDiversity] to: core-metrics-results/observed_features_vector.qza\u001b[0m\n",
      "\u001b[32mSaved SampleData[AlphaDiversity] to: core-metrics-results/shannon_vector.qza\u001b[0m\n",
      "\u001b[32mSaved SampleData[AlphaDiversity] to: core-metrics-results/evenness_vector.qza\u001b[0m\n",
      "\u001b[32mSaved DistanceMatrix to: core-metrics-results/unweighted_unifrac_distance_matrix.qza\u001b[0m\n",
      "\u001b[32mSaved DistanceMatrix to: core-metrics-results/weighted_unifrac_distance_matrix.qza\u001b[0m\n",
      "\u001b[32mSaved DistanceMatrix to: core-metrics-results/jaccard_distance_matrix.qza\u001b[0m\n",
      "\u001b[32mSaved DistanceMatrix to: core-metrics-results/bray_curtis_distance_matrix.qza\u001b[0m\n",
      "\u001b[32mSaved PCoAResults to: core-metrics-results/unweighted_unifrac_pcoa_results.qza\u001b[0m\n",
      "\u001b[32mSaved PCoAResults to: core-metrics-results/weighted_unifrac_pcoa_results.qza\u001b[0m\n",
      "\u001b[32mSaved PCoAResults to: core-metrics-results/jaccard_pcoa_results.qza\u001b[0m\n",
      "\u001b[32mSaved PCoAResults to: core-metrics-results/bray_curtis_pcoa_results.qza\u001b[0m\n",
      "\u001b[32mSaved Visualization to: core-metrics-results/unweighted_unifrac_emperor.qzv\u001b[0m\n",
      "\u001b[32mSaved Visualization to: core-metrics-results/weighted_unifrac_emperor.qzv\u001b[0m\n",
      "\u001b[32mSaved Visualization to: core-metrics-results/jaccard_emperor.qzv\u001b[0m\n",
      "\u001b[32mSaved Visualization to: core-metrics-results/bray_curtis_emperor.qzv\u001b[0m\n"
     ]
    }
   ],
   "source": [
    "! rm -rf core-metrics-results  # If the dir exists, it's removed\n",
    "\n",
    "! qiime diversity core-metrics-phylogenetic \\\n",
    "  --i-phylogeny rooted-tree.qza \\\n",
    "  --i-table table.qza \\\n",
    "  --p-sampling-depth 1103 \\\n",
    "  --m-metadata-file sample-metadata.tsv \\\n",
    "  --output-dir core-metrics-results"
   ]
  },
  {
   "cell_type": "code",
   "execution_count": null,
   "id": "3e7b669d-1f7a-4a11-a26f-0efd291b1693",
   "metadata": {},
   "outputs": [],
   "source": []
  },
  {
   "cell_type": "code",
   "execution_count": null,
   "id": "aff7d6d0-fb1f-4cca-868c-c14e2a6bd448",
   "metadata": {},
   "outputs": [],
   "source": []
  },
  {
   "cell_type": "code",
   "execution_count": null,
   "id": "6faf51b8-d934-43a9-a5f7-bf22d77e88d4",
   "metadata": {},
   "outputs": [],
   "source": []
  },
  {
   "cell_type": "code",
   "execution_count": null,
   "id": "aeb28b6f-52e2-40b0-8439-5ec1ddacff01",
   "metadata": {},
   "outputs": [],
   "source": []
  },
  {
   "cell_type": "code",
   "execution_count": null,
   "id": "8149a71f-824f-40df-8b0e-92c0038e4e57",
   "metadata": {},
   "outputs": [],
   "source": []
  },
  {
   "cell_type": "code",
   "execution_count": null,
   "id": "9ed5108b-966e-4bb2-b59f-3309a0b4b071",
   "metadata": {},
   "outputs": [],
   "source": []
  }
 ],
 "metadata": {
  "kernelspec": {
   "display_name": "qiime2",
   "language": "python",
   "name": "qiime2"
  },
  "language_info": {
   "codemirror_mode": {
    "name": "ipython",
    "version": 3
   },
   "file_extension": ".py",
   "mimetype": "text/x-python",
   "name": "python",
   "nbconvert_exporter": "python",
   "pygments_lexer": "ipython3",
   "version": "3.9.5"
  }
 },
 "nbformat": 4,
 "nbformat_minor": 5
}
